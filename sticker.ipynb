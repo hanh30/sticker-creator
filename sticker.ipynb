{
 "cells": [
  {
   "cell_type": "code",
   "execution_count": 1,
   "metadata": {},
   "outputs": [],
   "source": [
    "import numpy as np\n",
    "from rembg import remove \n",
    "import io\n",
    "from PIL import Image, ImageOps, ImageDraw\n",
    "import cv2\n",
    "from matplotlib import pyplot as plt"
   ]
  },
  {
   "cell_type": "code",
   "execution_count": 73,
   "metadata": {},
   "outputs": [],
   "source": [
    "# Store path of the image in the variable input_path \n",
    "input_path =  'IMG_5657.JPEG' \n",
    "  \n",
    "# Processing the image \n",
    "input = Image.open(input_path) \n",
    "  \n",
    "# Removing the background from the given Image \n",
    "output = remove(input) \n",
    "\n",
    "alpha_matte = remove(input, alpha_matting=True, only_mask=True)\n",
    "\n",
    "# Convert to NumPy array for processing\n",
    "alpha_matte_np = np.array(alpha_matte)\n",
    "  \n",
    "kernelSizes = [(3, 3), (5, 5), (7, 7), (15, 15)]\n",
    "# loop over the kernels sizes again\n",
    "for kernelSize in kernelSizes:\n",
    "\t# construct a rectangular kernel form the current size, but this\n",
    "\t# time apply a \"closing\" operation\n",
    "\tkernel = cv2.getStructuringElement(cv2.MORPH_RECT, kernelSize)\n",
    "\tclosing = cv2.morphologyEx(alpha_matte_np, cv2.MORPH_CLOSE, kernel)\n",
    "\n",
    "# Convert back to PIL Image\n",
    "refined_mask_image = Image.fromarray(closing)\n",
    "\n",
    "# Apply refined mask to input image\n",
    "output_image = Image.composite(input, Image.new(\"RGBA\", input.size), refined_mask_image)\n",
    "\n",
    "# # Store path of the output image in the variable output_path \n",
    "# output_path = 'E:\\C programs\\ \n",
    "#                Remove BackGround\\gfgoutput.png' \n",
    "\n",
    "# #Saving the image in the given path \n",
    "# output.save(output_path) "
   ]
  },
  {
   "cell_type": "code",
   "execution_count": 3,
   "metadata": {},
   "outputs": [],
   "source": [
    "from backgroundremover.bg import remove\n",
    "def remove_bg(src_img_path, out_img_path):\n",
    "    model_choices = [\"u2net\", \"u2net_human_seg\", \"u2netp\"]\n",
    "    f = open(src_img_path, \"rb\")\n",
    "    data = f.read()\n",
    "    img = remove(data, model_name=model_choices[0],\n",
    "                 alpha_matting=False,\n",
    "                #  alpha_matting=True,\n",
    "                #  alpha_matting_foreground_threshold=240,\n",
    "                #  alpha_matting_background_threshold=10,\n",
    "                #  alpha_matting_erode_structure_size=10,\n",
    "                #  alpha_matting_base_size=1000\n",
    "                )\n",
    "    f.close()\n",
    "    f = open(out_img_path, \"wb\")\n",
    "    f.write(img)\n",
    "    f.close()"
   ]
  },
  {
   "cell_type": "code",
   "execution_count": null,
   "metadata": {},
   "outputs": [],
   "source": [
    "remove_bg('IMG_5657.JPEG', 'IMG_5657_3.png')"
   ]
  },
  {
   "cell_type": "code",
   "execution_count": 2,
   "metadata": {},
   "outputs": [],
   "source": [
    "def add_white_stroke(image_path, stroke_width):\n",
    "    # Open the image and convert to RGBA\n",
    "    img = Image.open(image_path).convert(\"RGBA\")\n",
    "    \n",
    "    # Convert image to numpy array\n",
    "    img_np = np.array(img)\n",
    "    \n",
    "    # Extract the alpha channel\n",
    "    alpha = img_np[:, :, 3]\n",
    "    \n",
    "    # Create a binary mask where the object is white and the background is black\n",
    "    mask = cv2.threshold(alpha, 0, 255, cv2.THRESH_BINARY)[1]\n",
    "    \n",
    "    # Find contours (edges) of the object\n",
    "    contours, _ = cv2.findContours(mask, cv2.RETR_EXTERNAL, cv2.CHAIN_APPROX_SIMPLE)\n",
    "    \n",
    "    # Create an empty image for the stroke\n",
    "    stroke_img = Image.new(\"RGBA\", img.size, (255, 255, 255, 0))\n",
    "    stroke_draw = ImageDraw.Draw(stroke_img)\n",
    "    \n",
    "    # Draw the contours with a white stroke\n",
    "    for contour in contours:\n",
    "        # Offset the contour points by half the stroke width to center the stroke\n",
    "        offset_contour = [(point[0][0] + stroke_width // 2, point[0][1] + stroke_width // 2) for point in contour]\n",
    "        # Draw the stroke by expanding the contour\n",
    "        stroke_draw.line(offset_contour, fill=(255, 255, 255, 255), width=stroke_width)\n",
    "    \n",
    "    # Composite the original image with the stroke\n",
    "    combined = Image.alpha_composite(stroke_img, img)\n",
    "    \n",
    "    return combined\n",
    "\n",
    "# Usage\n",
    "image_path = 'img.png'\n",
    "stroke_width = 50  # Stroke width in pixels\n",
    "\n",
    "stroked_image = add_white_stroke(image_path, stroke_width)\n",
    "stroked_image.show()  # Display the image with the stroke\n",
    "# stroked_image.save('stroked_object_image.png')  # Save the image with the stroke\n"
   ]
  },
  {
   "cell_type": "code",
   "execution_count": 3,
   "metadata": {},
   "outputs": [],
   "source": [
    "image_path = 'IMG_5657_3.png'\n",
    "\n",
    "# Open the image and convert to RGBA\n",
    "img = Image.open(image_path).convert(\"RGBA\")\n",
    "\n",
    "# Convert image to numpy array\n",
    "img_np = np.array(img)\n",
    "\n",
    "# Extract the alpha channel\n",
    "alpha = img_np[:, :, 3]\n",
    "\n",
    "# Create a binary mask where the object is white and the background is black\n",
    "mask = cv2.threshold(alpha, 0, 255, cv2.THRESH_BINARY)[1]\n",
    "\n",
    "# Find contours (edges) of the object\n",
    "contours, _ = cv2.findContours(mask, cv2.RETR_EXTERNAL, cv2.CHAIN_APPROX_SIMPLE)"
   ]
  },
  {
   "cell_type": "code",
   "execution_count": 4,
   "metadata": {},
   "outputs": [],
   "source": [
    "# Create an empty image for the stroke\n",
    "stroke_img = Image.new(\"RGBA\", img.size, (255, 255, 255, 0))\n",
    "stroke_draw = ImageDraw.Draw(stroke_img)\n",
    "\n",
    "stroke_width=50\n",
    "\n",
    "# Draw the contours with a white stroke\n",
    "for contour in contours:\n",
    "    # Offset the contour points by half the stroke width to center the stroke\n",
    "    offset_contour = [(point[0][0] + stroke_width // 2, point[0][1] + stroke_width // 2) for point in contour]\n",
    "    # Draw the stroke by expanding the contour\n",
    "    stroke_draw.line(offset_contour, fill=(255, 255, 255, 255), width=stroke_width)\n",
    "\n",
    "# Composite the original image with the stroke\n",
    "combined = Image.alpha_composite(stroke_img, img)"
   ]
  },
  {
   "cell_type": "code",
   "execution_count": 5,
   "metadata": {},
   "outputs": [],
   "source": [
    "combined.show()"
   ]
  },
  {
   "cell_type": "code",
   "execution_count": 6,
   "metadata": {},
   "outputs": [
    {
     "name": "stdout",
     "output_type": "stream",
     "text": [
      "Number of Contours found = 281\n"
     ]
    }
   ],
   "source": [
    "# Let's load a simple image with 3 black squares \n",
    "image = cv2.imread('IMG_5657_3.png') \n",
    "# cv2.waitKey(0) \n",
    "  \n",
    "# Grayscale \n",
    "gray = cv2.cvtColor(image, cv2.COLOR_BGR2GRAY) \n",
    "  \n",
    "# Find Canny edges \n",
    "edged = cv2.Canny(gray, 30, 200) \n",
    "cv2.waitKey(0) \n",
    "  \n",
    "# Finding Contours \n",
    "# Use a copy of the image e.g. edged.copy() \n",
    "# since findContours alters the image \n",
    "contours, hierarchy = cv2.findContours(edged,  \n",
    "    cv2.RETR_EXTERNAL, cv2.CHAIN_APPROX_NONE) \n",
    "  \n",
    "cv2.imshow('Canny Edges After Contouring', edged) \n",
    "cv2.waitKey(0) \n",
    "  \n",
    "print(\"Number of Contours found = \" + str(len(contours))) \n",
    "  \n",
    "# Draw all contours \n",
    "# -1 signifies drawing all contours \n",
    "cv2.drawContours(image, contours, -1, (0, 255, 0), 3) \n",
    "  \n",
    "cv2.imshow('Contours', image) \n",
    "cv2.waitKey(0) \n",
    "cv2.destroyAllWindows() "
   ]
  },
  {
   "cell_type": "code",
   "execution_count": null,
   "metadata": {},
   "outputs": [],
   "source": []
  }
 ],
 "metadata": {
  "kernelspec": {
   "display_name": "Python 3",
   "language": "python",
   "name": "python3"
  },
  "language_info": {
   "codemirror_mode": {
    "name": "ipython",
    "version": 3
   },
   "file_extension": ".py",
   "mimetype": "text/x-python",
   "name": "python",
   "nbconvert_exporter": "python",
   "pygments_lexer": "ipython3",
   "version": "3.11.4"
  }
 },
 "nbformat": 4,
 "nbformat_minor": 2
}
