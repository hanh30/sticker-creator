{
 "cells": [
  {
   "cell_type": "code",
   "execution_count": 48,
   "metadata": {},
   "outputs": [],
   "source": [
    "import numpy as np\n",
    "from rembg import remove \n",
    "from PIL import Image \n",
    "import cv2\n",
    "from matplotlib import pyplot as plt"
   ]
  },
  {
   "cell_type": "code",
   "execution_count": 73,
   "metadata": {},
   "outputs": [],
   "source": [
    "# Store path of the image in the variable input_path \n",
    "input_path =  'IMG_5657.JPEG' \n",
    "  \n",
    "# Processing the image \n",
    "input = Image.open(input_path) \n",
    "  \n",
    "# Removing the background from the given Image \n",
    "output = remove(input) \n",
    "\n",
    "alpha_matte = remove(input, alpha_matting=True, only_mask=True)\n",
    "\n",
    "# Convert to NumPy array for processing\n",
    "alpha_matte_np = np.array(alpha_matte)\n",
    "  \n",
    "kernelSizes = [(3, 3), (5, 5), (7, 7), (15, 15)]\n",
    "# loop over the kernels sizes again\n",
    "for kernelSize in kernelSizes:\n",
    "\t# construct a rectangular kernel form the current size, but this\n",
    "\t# time apply a \"closing\" operation\n",
    "\tkernel = cv2.getStructuringElement(cv2.MORPH_RECT, kernelSize)\n",
    "\tclosing = cv2.morphologyEx(alpha_matte_np, cv2.MORPH_CLOSE, kernel)\n",
    "\n",
    "# Convert back to PIL Image\n",
    "refined_mask_image = Image.fromarray(closing)\n",
    "\n",
    "# Apply refined mask to input image\n",
    "output_image = Image.composite(input, Image.new(\"RGBA\", input.size), refined_mask_image)\n",
    "\n",
    "# # Store path of the output image in the variable output_path \n",
    "# output_path = 'E:\\C programs\\ \n",
    "#                Remove BackGround\\gfgoutput.png' \n",
    "\n",
    "# #Saving the image in the given path \n",
    "# output.save(output_path) "
   ]
  },
  {
   "cell_type": "code",
   "execution_count": 86,
   "metadata": {},
   "outputs": [],
   "source": [
    "import io\n",
    "from PIL import ImageOps\n",
    "\n",
    "# Function to remove background using rembg\n",
    "def remove_background(image_path):\n",
    "    with open(image_path, 'rb') as img_file:\n",
    "        input_image = img_file.read()\n",
    "    output_image = remove(input_image)\n",
    "\n",
    "    # # Processing the image \n",
    "    # input_image = Image.open(input_path) \n",
    "\n",
    "    # alpha_matte = remove(input_image, alpha_matting=True, only_mask=True)\n",
    "\n",
    "    # # Convert to NumPy array for processing\n",
    "    # alpha_matte_np = np.array(alpha_matte)\n",
    "    \n",
    "    # kernel = np.ones((15, 15), np.uint8) \n",
    "      \n",
    "    # # defining the closing function  \n",
    "    # # over the image and structuring element \n",
    "    # closing = cv2.morphologyEx(alpha_matte_np, cv2.MORPH_CLOSE, kernel)\n",
    "\n",
    "    # # Convert back to PIL Image\n",
    "    # refined_mask_image = Image.fromarray(closing)\n",
    "\n",
    "    # # Apply refined mask to input image\n",
    "    # output_image = Image.composite(input_image, Image.new(\"RGBA\", input_image.size), refined_mask_image)\n",
    "\n",
    "    img = Image.open(io.BytesIO(output_image)).convert(\"RGBA\")\n",
    "    return img\n",
    "\n",
    "# Function to add a white border\n",
    "def add_white_border(image, border_size):\n",
    "    # Create a new image with a white background\n",
    "    new_image = Image.new(\"RGBA\", \n",
    "                          (image.width + 2 * border_size, image.height + 2 * border_size), \n",
    "                          \"WHITE\")\n",
    "    \n",
    "    # Paste the original image in the center of the new image\n",
    "    new_image.paste(image, (border_size, border_size), image)\n",
    "\n",
    "    # output_image_border = ImageOps.expand(output_image,border=300,fill='white')\n",
    "    \n",
    "    return new_image\n",
    "\n",
    "# Load the image\n",
    "image_path = 'IMG_5657.JPEG'\n",
    "image_without_bg = remove_background(image_path)\n",
    "\n",
    "# Add white border\n",
    "border_size = 10\n",
    "final_image = add_white_border(image_without_bg, border_size)\n",
    "\n",
    "# Save the result\n",
    "final_image.save('final_image.png')\n"
   ]
  },
  {
   "cell_type": "code",
   "execution_count": 102,
   "metadata": {},
   "outputs": [],
   "source": [
    "# Load the image using OpenCV\n",
    "input_path = 'IMG_5657-Photoroom.png'\n",
    "image = cv2.imread(input_path)\n",
    "\n",
    "# Convert the image from BGR to RGB\n",
    "image_rgb = cv2.cvtColor(image, cv2.COLOR_BGR2RGB)\n",
    "\n",
    "# Remove the background using rembg\n",
    "output_image = remove(image_rgb)\n",
    "\n",
    "# Convert the result back to BGR format\n",
    "output_image_bgr = cv2.cvtColor(output_image, cv2.COLOR_RGB2BGR)"
   ]
  },
  {
   "cell_type": "code",
   "execution_count": 107,
   "metadata": {},
   "outputs": [],
   "source": [
    "from backgroundremover.bg import remove\n",
    "def remove_bg(src_img_path, out_img_path):\n",
    "    model_choices = [\"u2net\", \"u2net_human_seg\", \"u2netp\"]\n",
    "    f = open(src_img_path, \"rb\")\n",
    "    data = f.read()\n",
    "    img = remove(data, model_name=model_choices[0],\n",
    "                 alpha_matting=True,\n",
    "                 alpha_matting_foreground_threshold=240,\n",
    "                 alpha_matting_background_threshold=10,\n",
    "                 alpha_matting_erode_structure_size=10,\n",
    "                 alpha_matting_base_size=1000)\n",
    "    f.close()\n",
    "    f = open(out_img_path, \"wb\")\n",
    "    f.write(img)\n",
    "    f.close()"
   ]
  },
  {
   "cell_type": "code",
   "execution_count": 131,
   "metadata": {},
   "outputs": [
    {
     "name": "stdout",
     "output_type": "stream",
     "text": [
      "DEBUG: path to be checked: C:\\Users\\hanh\\.u2net\\u2net.pth\n"
     ]
    }
   ],
   "source": [
    "from backgroundremover.bg import remove\n",
    "def remove_bg(src_img_path, out_img_path):\n",
    "    model_choices = [\"u2net\", \"u2net_human_seg\", \"u2netp\"]\n",
    "    f = open(src_img_path, \"rb\")\n",
    "    data = f.read()\n",
    "    img = remove(data, model_name=model_choices[0],\n",
    "                 alpha_matting=False)\n",
    "    f.close()\n",
    "    f = open(out_img_path, \"wb\")\n",
    "    f.write(img)\n",
    "    f.close()\n",
    "remove_bg('IMG_5657.JPEG', 'IMG_5657_3.png')"
   ]
  },
  {
   "cell_type": "code",
   "execution_count": 115,
   "metadata": {},
   "outputs": [
    {
     "name": "stdout",
     "output_type": "stream",
     "text": [
      "DEBUG: path to be checked: C:\\Users\\hanh\\.u2net\\u2net.pth\n"
     ]
    }
   ],
   "source": [
    "input_path = 'IMG_5657.JPEG'\n",
    "\n",
    "model_choices = [\"u2net\", \"u2net_human_seg\", \"u2netp\"]\n",
    "\n",
    "f = open(input_path, \"rb\")\n",
    "data = f.read()\n",
    "\n",
    "# image = cv2.imread(input_path)\n",
    "\n",
    "# # Convert the image from BGR to RGB\n",
    "# image_rgb = cv2.cvtColor(image, cv2.COLOR_BGR2RGB)\n",
    "\n",
    "# # Remove the background using rembg\n",
    "# output_image = remove(image_rgb)\n",
    "\n",
    "# Convert the result back to BGR format\n",
    "# output_image_bgr = cv2.cvtColor(output_image, cv2.COLOR_RGB2BGR)\n",
    "\n",
    "output_image = remove(data, model_name=model_choices[0],\n",
    "                alpha_matting=True,\n",
    "                alpha_matting_foreground_threshold=240,\n",
    "                alpha_matting_background_threshold=10,\n",
    "                alpha_matting_erode_structure_size=10,\n",
    "                alpha_matting_base_size=1000)\n",
    "f.close()"
   ]
  },
  {
   "cell_type": "code",
   "execution_count": 126,
   "metadata": {},
   "outputs": [],
   "source": [
    "img_raw = cv2.imread(input_path)"
   ]
  },
  {
   "cell_type": "code",
   "execution_count": 127,
   "metadata": {},
   "outputs": [
    {
     "data": {
      "text/plain": [
       "(2048, 1536, 3)"
      ]
     },
     "execution_count": 127,
     "metadata": {},
     "output_type": "execute_result"
    }
   ],
   "source": [
    "img_raw.shape"
   ]
  },
  {
   "cell_type": "code",
   "execution_count": 129,
   "metadata": {},
   "outputs": [
    {
     "data": {
      "text/plain": [
       "3145728"
      ]
     },
     "execution_count": 129,
     "metadata": {},
     "output_type": "execute_result"
    }
   ],
   "source": [
    "2048*1536"
   ]
  },
  {
   "cell_type": "code",
   "execution_count": 121,
   "metadata": {},
   "outputs": [],
   "source": [
    "img = np.asarray(output_image)"
   ]
  },
  {
   "cell_type": "code",
   "execution_count": 123,
   "metadata": {},
   "outputs": [
    {
     "data": {
      "text/plain": [
       "(991138,)"
      ]
     },
     "execution_count": 123,
     "metadata": {},
     "output_type": "execute_result"
    }
   ],
   "source": [
    "img.shape"
   ]
  }
 ],
 "metadata": {
  "kernelspec": {
   "display_name": "Python 3",
   "language": "python",
   "name": "python3"
  },
  "language_info": {
   "codemirror_mode": {
    "name": "ipython",
    "version": 3
   },
   "file_extension": ".py",
   "mimetype": "text/x-python",
   "name": "python",
   "nbconvert_exporter": "python",
   "pygments_lexer": "ipython3",
   "version": "3.11.4"
  }
 },
 "nbformat": 4,
 "nbformat_minor": 2
}
